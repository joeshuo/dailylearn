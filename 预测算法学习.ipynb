{
 "cells": [
  {
   "cell_type": "code",
   "execution_count": 1,
   "id": "ea21b587",
   "metadata": {},
   "outputs": [],
   "source": [
    "import warnings;\n",
    "warnings.simplefilter('ignore')"
   ]
  },
  {
   "cell_type": "code",
   "execution_count": 3,
   "id": "5cc51b8f",
   "metadata": {},
   "outputs": [],
   "source": [
    "import pandas as pd\n",
    "from prophet import Prophet"
   ]
  },
  {
   "cell_type": "code",
   "execution_count": 5,
   "id": "43132dbc",
   "metadata": {},
   "outputs": [
    {
     "data": {
      "text/plain": [
       "<bound method NDFrame.head of       Time Date  Product          Store        Value\n",
       "0       1012018  2667437  QLD_CW_ST0203  2926.000000\n",
       "1       2012018  2667437  QLD_CW_ST0203  2687.531000\n",
       "2       3012018  2667437  QLD_CW_ST0203  2793.000000\n",
       "3       4012018  2667437  QLD_CW_ST0203  2394.000000\n",
       "4       5012018  2667437  QLD_CW_ST0203  2660.000000\n",
       "...         ...      ...            ...          ...\n",
       "1075   12122020  2667437  QLD_CW_ST0203  3167.594500\n",
       "1076   13122020  2667437  QLD_CW_ST0203  3167.594500\n",
       "1077   14122020  2667437  QLD_CW_ST0203  3383.354511\n",
       "1078   15122020  2667437  QLD_CW_ST0203  2714.591329\n",
       "1079   16122020  2667437  QLD_CW_ST0203  2585.035107\n",
       "\n",
       "[1080 rows x 4 columns]>"
      ]
     },
     "execution_count": 5,
     "metadata": {},
     "output_type": "execute_result"
    }
   ],
   "source": [
    "df = pd.read_csv(r'E:\\A智网\\prophet预测学习\\dataset.csv')\n",
    "df.head"
   ]
  },
  {
   "cell_type": "code",
   "execution_count": null,
   "id": "2beaac4f",
   "metadata": {},
   "outputs": [
    {
     "data": {
      "text/html": [
       "<div>\n",
       "<style scoped>\n",
       "    .dataframe tbody tr th:only-of-type {\n",
       "        vertical-align: middle;\n",
       "    }\n",
       "\n",
       "    .dataframe tbody tr th {\n",
       "        vertical-align: top;\n",
       "    }\n",
       "\n",
       "    .dataframe thead th {\n",
       "        text-align: right;\n",
       "    }\n",
       "</style>\n",
       "<table border=\"1\" class=\"dataframe\">\n",
       "  <thead>\n",
       "    <tr style=\"text-align: right;\">\n",
       "      <th></th>\n",
       "      <th>Time Date</th>\n",
       "      <th>Product</th>\n",
       "      <th>Store</th>\n",
       "      <th>Value</th>\n",
       "      <th>Year</th>\n",
       "      <th>Month</th>\n",
       "      <th>Day</th>\n",
       "      <th>ds</th>\n",
       "    </tr>\n",
       "  </thead>\n",
       "  <tbody>\n",
       "    <tr>\n",
       "      <th>0</th>\n",
       "      <td>1012018</td>\n",
       "      <td>2667437</td>\n",
       "      <td>QLD_CW_ST0203</td>\n",
       "      <td>2926.000</td>\n",
       "      <td>2018</td>\n",
       "      <td>01</td>\n",
       "      <td>1</td>\n",
       "      <td>2018-01-01</td>\n",
       "    </tr>\n",
       "    <tr>\n",
       "      <th>1</th>\n",
       "      <td>2012018</td>\n",
       "      <td>2667437</td>\n",
       "      <td>QLD_CW_ST0203</td>\n",
       "      <td>2687.531</td>\n",
       "      <td>2018</td>\n",
       "      <td>01</td>\n",
       "      <td>2</td>\n",
       "      <td>2018-01-02</td>\n",
       "    </tr>\n",
       "    <tr>\n",
       "      <th>2</th>\n",
       "      <td>3012018</td>\n",
       "      <td>2667437</td>\n",
       "      <td>QLD_CW_ST0203</td>\n",
       "      <td>2793.000</td>\n",
       "      <td>2018</td>\n",
       "      <td>01</td>\n",
       "      <td>3</td>\n",
       "      <td>2018-01-03</td>\n",
       "    </tr>\n",
       "    <tr>\n",
       "      <th>3</th>\n",
       "      <td>4012018</td>\n",
       "      <td>2667437</td>\n",
       "      <td>QLD_CW_ST0203</td>\n",
       "      <td>2394.000</td>\n",
       "      <td>2018</td>\n",
       "      <td>01</td>\n",
       "      <td>4</td>\n",
       "      <td>2018-01-04</td>\n",
       "    </tr>\n",
       "    <tr>\n",
       "      <th>4</th>\n",
       "      <td>5012018</td>\n",
       "      <td>2667437</td>\n",
       "      <td>QLD_CW_ST0203</td>\n",
       "      <td>2660.000</td>\n",
       "      <td>2018</td>\n",
       "      <td>01</td>\n",
       "      <td>5</td>\n",
       "      <td>2018-01-05</td>\n",
       "    </tr>\n",
       "  </tbody>\n",
       "</table>\n",
       "</div>"
      ],
      "text/plain": [
       "  Time Date  Product          Store     Value  Year Month Day         ds\n",
       "0   1012018  2667437  QLD_CW_ST0203  2926.000  2018    01   1 2018-01-01\n",
       "1   2012018  2667437  QLD_CW_ST0203  2687.531  2018    01   2 2018-01-02\n",
       "2   3012018  2667437  QLD_CW_ST0203  2793.000  2018    01   3 2018-01-03\n",
       "3   4012018  2667437  QLD_CW_ST0203  2394.000  2018    01   4 2018-01-04\n",
       "4   5012018  2667437  QLD_CW_ST0203  2660.000  2018    01   5 2018-01-05"
      ]
     },
     "execution_count": 8,
     "metadata": {},
     "output_type": "execute_result"
    }
   ],
   "source": [
    "df['Time Date'] = df['Time Date'].astype(str)\n",
    "df['Year'] = df['Time Date'].str[-4:]\n",
    "df['Month'] = df['Time Date'].str[-6:-4]\n",
    "df['Day'] = df['Time Date'].str[:-6]\n",
    "df['ds'] = pd.DatetimeIndex(df['Year']+'-'+df['Month']+'-'+df['Day'])"
   ]
  },
  {
   "cell_type": "code",
   "execution_count": 9,
   "id": "4dd8006b",
   "metadata": {},
   "outputs": [],
   "source": [
    "df = df.loc[(df['Product']==2667437) & (df['Store']=='QLD_CW_ST0203')]\n",
    "df.drop(['Time Date', 'Year', 'Month', 'Day', 'Product', 'Store'], axis=1, inplace=True)\n",
    "df.columns = ['y', 'ds']"
   ]
  },
  {
   "cell_type": "code",
   "execution_count": 10,
   "id": "561f8f16",
   "metadata": {},
   "outputs": [
    {
     "data": {
      "text/plain": [
       "<bound method NDFrame.head of                 y         ds\n",
       "0     2926.000000 2018-01-01\n",
       "1     2687.531000 2018-01-02\n",
       "2     2793.000000 2018-01-03\n",
       "3     2394.000000 2018-01-04\n",
       "4     2660.000000 2018-01-05\n",
       "...           ...        ...\n",
       "1075  3167.594500 2020-12-12\n",
       "1076  3167.594500 2020-12-13\n",
       "1077  3383.354511 2020-12-14\n",
       "1078  2714.591329 2020-12-15\n",
       "1079  2585.035107 2020-12-16\n",
       "\n",
       "[1080 rows x 2 columns]>"
      ]
     },
     "execution_count": 10,
     "metadata": {},
     "output_type": "execute_result"
    }
   ],
   "source": [
    "df.head"
   ]
  },
  {
   "cell_type": "code",
   "execution_count": 14,
   "id": "c9816dbf",
   "metadata": {},
   "outputs": [
    {
     "ename": "AttributeError",
     "evalue": "'Prophet' object has no attribute 'stan_backend'",
     "output_type": "error",
     "traceback": [
      "\u001b[31m---------------------------------------------------------------------------\u001b[39m",
      "\u001b[31mAttributeError\u001b[39m                            Traceback (most recent call last)",
      "\u001b[36mCell\u001b[39m\u001b[36m \u001b[39m\u001b[32mIn[14]\u001b[39m\u001b[32m, line 1\u001b[39m\n\u001b[32m----> \u001b[39m\u001b[32m1\u001b[39m m = Prophet(interval_width= \u001b[32m0.95\u001b[39m,daily_seasonality=\u001b[38;5;28;01mTrue\u001b[39;00m)\n\u001b[32m      2\u001b[39m model = m.fit(df)\n",
      "\u001b[36mFile \u001b[39m\u001b[32md:\\Software\\Anaconda\\envs\\dianli\\Lib\\site-packages\\prophet\\forecaster.py:158\u001b[39m, in \u001b[36mProphet.__init__\u001b[39m\u001b[34m(self, growth, changepoints, n_changepoints, changepoint_range, yearly_seasonality, weekly_seasonality, daily_seasonality, holidays, seasonality_mode, seasonality_prior_scale, holidays_prior_scale, changepoint_prior_scale, mcmc_samples, interval_width, uncertainty_samples, stan_backend, scaling, holidays_mode)\u001b[39m\n\u001b[32m    156\u001b[39m \u001b[38;5;28mself\u001b[39m.fit_kwargs = {}\n\u001b[32m    157\u001b[39m \u001b[38;5;28mself\u001b[39m.validate_inputs()\n\u001b[32m--> \u001b[39m\u001b[32m158\u001b[39m \u001b[38;5;28mself\u001b[39m._load_stan_backend(stan_backend)\n",
      "\u001b[36mFile \u001b[39m\u001b[32md:\\Software\\Anaconda\\envs\\dianli\\Lib\\site-packages\\prophet\\forecaster.py:171\u001b[39m, in \u001b[36mProphet._load_stan_backend\u001b[39m\u001b[34m(self, stan_backend)\u001b[39m\n\u001b[32m    168\u001b[39m \u001b[38;5;28;01melse\u001b[39;00m:\n\u001b[32m    169\u001b[39m     \u001b[38;5;28mself\u001b[39m.stan_backend = StanBackendEnum.get_backend_class(stan_backend)()\n\u001b[32m--> \u001b[39m\u001b[32m171\u001b[39m logger.debug(\u001b[33m\"\u001b[39m\u001b[33mLoaded stan backend: \u001b[39m\u001b[38;5;132;01m%s\u001b[39;00m\u001b[33m\"\u001b[39m, \u001b[38;5;28mself\u001b[39m.stan_backend.get_type())\n",
      "\u001b[31mAttributeError\u001b[39m: 'Prophet' object has no attribute 'stan_backend'"
     ]
    }
   ],
   "source": [
    "m = Prophet(interval_width= 0.95,daily_seasonality=True)\n",
    "model = m.fit(df)"
   ]
  },
  {
   "cell_type": "code",
   "execution_count": 1,
   "id": "51ce7b7b",
   "metadata": {},
   "outputs": [
    {
     "name": "stdout",
     "output_type": "stream",
     "text": [
      "CmdStan install directory: C:\\Users\\Joe-h\\.cmdstan\n",
      "Installing CmdStan version: 2.36.0\n",
      "Downloading CmdStan version 2.36.0\n",
      "Download successful, file: C:\\Users\\Joe-h\\AppData\\Local\\Temp\\tmpcv00snqs\n",
      "Extracting distribution\n"
     ]
    },
    {
     "name": "stderr",
     "output_type": "stream",
     "text": [
      "16:29:32 - cmdstanpy - WARNING - CmdStan installation failed.\n",
      "Command \"make build\" failed\n",
      "Command: ['mingw32-make', 'build', '-j1']\n",
      "failed with error [WinError 2] 系统找不到指定的文件。\n",
      "\n"
     ]
    },
    {
     "name": "stdout",
     "output_type": "stream",
     "text": [
      "Unpacked download as cmdstan-2.36.0\n",
      "Building version cmdstan-2.36.0, may take several minutes, depending on your system.\n"
     ]
    },
    {
     "data": {
      "text/plain": [
       "False"
      ]
     },
     "execution_count": 1,
     "metadata": {},
     "output_type": "execute_result"
    }
   ],
   "source": [
    "import cmdstanpy\n",
    "cmdstanpy.install_cmdstan()"
   ]
  }
 ],
 "metadata": {
  "kernelspec": {
   "display_name": "dianli",
   "language": "python",
   "name": "dianli"
  },
  "language_info": {
   "codemirror_mode": {
    "name": "ipython",
    "version": 3
   },
   "file_extension": ".py",
   "mimetype": "text/x-python",
   "name": "python",
   "nbconvert_exporter": "python",
   "pygments_lexer": "ipython3",
   "version": "3.12.3"
  }
 },
 "nbformat": 4,
 "nbformat_minor": 5
}
